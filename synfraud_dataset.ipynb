{
 "cells": [
  {
   "cell_type": "code",
   "id": "initial_id",
   "metadata": {
    "collapsed": true,
    "jupyter": {
     "is_executing": true
    },
    "ExecuteTime": {
     "start_time": "2025-07-20T16:45:41.415910Z"
    }
   },
   "source": [
    "#Importing Packages\n",
    "import torch\n",
    "import torch.optim as optim\n",
    "import torch.nn as nn\n",
    "from torch.optim.lr_scheduler import ReduceLROnPlateau\n",
    "from torch.utils.data import TensorDataset, DataLoader\n",
    "import torch.nn.functional as F\n",
    "import pandas as pd\n",
    "import numpy as np\n",
    "import matplotlib.pyplot as plt\n",
    "import matplotlib.colors\n",
    "from sklearn.preprocessing import StandardScaler\n",
    "from sklearn.metrics import confusion_matrix, roc_curve, auc\n",
    "import matplotlib.cm as mpl_cm\n",
    "import os\n",
    "from sklearn.model_selection import train_test_split as tts\n",
    "from sklearn.preprocessing import LabelEncoder"
   ],
   "outputs": [],
   "execution_count": null
  },
  {
   "metadata": {
    "ExecuteTime": {
     "end_time": "2025-07-20T06:45:49.403167Z",
     "start_time": "2025-07-20T06:45:48.061521Z"
    }
   },
   "cell_type": "code",
   "source": [
    "#Move to CUDA if available\n",
    "device = torch.device(\"cuda\" if torch.cuda.is_available() else \"cpu\")\n",
    "print(f\"Using device: {device}\")"
   ],
   "id": "59b1997730f08f4c",
   "outputs": [
    {
     "name": "stdout",
     "output_type": "stream",
     "text": [
      "Using device: cuda\n"
     ]
    }
   ],
   "execution_count": 3
  },
  {
   "metadata": {
    "ExecuteTime": {
     "end_time": "2025-07-20T06:45:53.647604Z",
     "start_time": "2025-07-20T06:45:53.385587Z"
    }
   },
   "cell_type": "code",
   "source": [
    "# #Importing data from UNSW_NB15\n",
    "# train_df = pd.read_csv('data/UNSW_NB15_training-set.csv')\n",
    "# test_df = pd.read_csv('data/UNSW_NB15_testing-set.csv')\n",
    "# https://www.kaggle.com/datasets/samayashar/fraud-detection-transactions-dataset\n",
    "df = pd.read_csv('data/synthetic_fraud_dataset.csv')\n",
    "\n",
    "df.info()"
   ],
   "id": "3a8cdff9faac9e5c",
   "outputs": [
    {
     "name": "stdout",
     "output_type": "stream",
     "text": [
      "<class 'pandas.core.frame.DataFrame'>\n",
      "RangeIndex: 50000 entries, 0 to 49999\n",
      "Data columns (total 21 columns):\n",
      " #   Column                        Non-Null Count  Dtype  \n",
      "---  ------                        --------------  -----  \n",
      " 0   Transaction_ID                50000 non-null  object \n",
      " 1   User_ID                       50000 non-null  object \n",
      " 2   Transaction_Amount            50000 non-null  float64\n",
      " 3   Transaction_Type              50000 non-null  object \n",
      " 4   Timestamp                     50000 non-null  object \n",
      " 5   Account_Balance               50000 non-null  float64\n",
      " 6   Device_Type                   50000 non-null  object \n",
      " 7   Location                      50000 non-null  object \n",
      " 8   Merchant_Category             50000 non-null  object \n",
      " 9   IP_Address_Flag               50000 non-null  int64  \n",
      " 10  Previous_Fraudulent_Activity  50000 non-null  int64  \n",
      " 11  Daily_Transaction_Count       50000 non-null  int64  \n",
      " 12  Avg_Transaction_Amount_7d     50000 non-null  float64\n",
      " 13  Failed_Transaction_Count_7d   50000 non-null  int64  \n",
      " 14  Card_Type                     50000 non-null  object \n",
      " 15  Card_Age                      50000 non-null  int64  \n",
      " 16  Transaction_Distance          50000 non-null  float64\n",
      " 17  Authentication_Method         50000 non-null  object \n",
      " 18  Risk_Score                    50000 non-null  float64\n",
      " 19  Is_Weekend                    50000 non-null  int64  \n",
      " 20  Fraud_Label                   50000 non-null  int64  \n",
      "dtypes: float64(5), int64(7), object(9)\n",
      "memory usage: 8.0+ MB\n"
     ]
    }
   ],
   "execution_count": 4
  },
  {
   "metadata": {
    "ExecuteTime": {
     "end_time": "2025-07-20T06:45:54.783500Z",
     "start_time": "2025-07-20T06:45:54.587526Z"
    }
   },
   "cell_type": "code",
   "source": [
    "object_cols = ['Transaction_Type', 'Timestamp', 'Device_Type', 'Location', 'Merchant_Category', 'Card_Type', 'Authentication_Method']\n",
    "\n",
    "\n",
    "le = LabelEncoder()\n",
    "\n",
    "for col in object_cols:\n",
    "    df[col] = le.fit_transform(df[col])\n",
    "\n",
    "train_df, temp_df = tts(df, test_size=0.4)\n",
    "test_df, val_df = tts(temp_df, test_size=0.5)\n"
   ],
   "id": "e4e915c9a4184925",
   "outputs": [],
   "execution_count": 5
  },
  {
   "metadata": {
    "ExecuteTime": {
     "end_time": "2025-07-20T06:45:55.381239Z",
     "start_time": "2025-07-20T06:45:55.364928Z"
    }
   },
   "cell_type": "code",
   "source": "train_df.info()",
   "id": "70b49f8f7d6cd472",
   "outputs": [
    {
     "name": "stdout",
     "output_type": "stream",
     "text": [
      "<class 'pandas.core.frame.DataFrame'>\n",
      "Index: 30000 entries, 26333 to 41164\n",
      "Data columns (total 21 columns):\n",
      " #   Column                        Non-Null Count  Dtype  \n",
      "---  ------                        --------------  -----  \n",
      " 0   Transaction_ID                30000 non-null  object \n",
      " 1   User_ID                       30000 non-null  object \n",
      " 2   Transaction_Amount            30000 non-null  float64\n",
      " 3   Transaction_Type              30000 non-null  int64  \n",
      " 4   Timestamp                     30000 non-null  int64  \n",
      " 5   Account_Balance               30000 non-null  float64\n",
      " 6   Device_Type                   30000 non-null  int64  \n",
      " 7   Location                      30000 non-null  int64  \n",
      " 8   Merchant_Category             30000 non-null  int64  \n",
      " 9   IP_Address_Flag               30000 non-null  int64  \n",
      " 10  Previous_Fraudulent_Activity  30000 non-null  int64  \n",
      " 11  Daily_Transaction_Count       30000 non-null  int64  \n",
      " 12  Avg_Transaction_Amount_7d     30000 non-null  float64\n",
      " 13  Failed_Transaction_Count_7d   30000 non-null  int64  \n",
      " 14  Card_Type                     30000 non-null  int64  \n",
      " 15  Card_Age                      30000 non-null  int64  \n",
      " 16  Transaction_Distance          30000 non-null  float64\n",
      " 17  Authentication_Method         30000 non-null  int64  \n",
      " 18  Risk_Score                    30000 non-null  float64\n",
      " 19  Is_Weekend                    30000 non-null  int64  \n",
      " 20  Fraud_Label                   30000 non-null  int64  \n",
      "dtypes: float64(5), int64(14), object(2)\n",
      "memory usage: 5.0+ MB\n"
     ]
    }
   ],
   "execution_count": 6
  },
  {
   "metadata": {
    "ExecuteTime": {
     "end_time": "2025-07-20T06:45:56.002716Z",
     "start_time": "2025-07-20T06:45:55.983591Z"
    }
   },
   "cell_type": "code",
   "source": "test_df.info()",
   "id": "35c969b3ddc43ad7",
   "outputs": [
    {
     "name": "stdout",
     "output_type": "stream",
     "text": [
      "<class 'pandas.core.frame.DataFrame'>\n",
      "Index: 10000 entries, 34712 to 36025\n",
      "Data columns (total 21 columns):\n",
      " #   Column                        Non-Null Count  Dtype  \n",
      "---  ------                        --------------  -----  \n",
      " 0   Transaction_ID                10000 non-null  object \n",
      " 1   User_ID                       10000 non-null  object \n",
      " 2   Transaction_Amount            10000 non-null  float64\n",
      " 3   Transaction_Type              10000 non-null  int64  \n",
      " 4   Timestamp                     10000 non-null  int64  \n",
      " 5   Account_Balance               10000 non-null  float64\n",
      " 6   Device_Type                   10000 non-null  int64  \n",
      " 7   Location                      10000 non-null  int64  \n",
      " 8   Merchant_Category             10000 non-null  int64  \n",
      " 9   IP_Address_Flag               10000 non-null  int64  \n",
      " 10  Previous_Fraudulent_Activity  10000 non-null  int64  \n",
      " 11  Daily_Transaction_Count       10000 non-null  int64  \n",
      " 12  Avg_Transaction_Amount_7d     10000 non-null  float64\n",
      " 13  Failed_Transaction_Count_7d   10000 non-null  int64  \n",
      " 14  Card_Type                     10000 non-null  int64  \n",
      " 15  Card_Age                      10000 non-null  int64  \n",
      " 16  Transaction_Distance          10000 non-null  float64\n",
      " 17  Authentication_Method         10000 non-null  int64  \n",
      " 18  Risk_Score                    10000 non-null  float64\n",
      " 19  Is_Weekend                    10000 non-null  int64  \n",
      " 20  Fraud_Label                   10000 non-null  int64  \n",
      "dtypes: float64(5), int64(14), object(2)\n",
      "memory usage: 1.7+ MB\n"
     ]
    }
   ],
   "execution_count": 7
  },
  {
   "metadata": {
    "ExecuteTime": {
     "end_time": "2025-07-20T06:45:56.858162Z",
     "start_time": "2025-07-20T06:45:56.848107Z"
    }
   },
   "cell_type": "code",
   "source": "val_df.info()",
   "id": "6803771f01c0b08e",
   "outputs": [
    {
     "name": "stdout",
     "output_type": "stream",
     "text": [
      "<class 'pandas.core.frame.DataFrame'>\n",
      "Index: 10000 entries, 22948 to 30203\n",
      "Data columns (total 21 columns):\n",
      " #   Column                        Non-Null Count  Dtype  \n",
      "---  ------                        --------------  -----  \n",
      " 0   Transaction_ID                10000 non-null  object \n",
      " 1   User_ID                       10000 non-null  object \n",
      " 2   Transaction_Amount            10000 non-null  float64\n",
      " 3   Transaction_Type              10000 non-null  int64  \n",
      " 4   Timestamp                     10000 non-null  int64  \n",
      " 5   Account_Balance               10000 non-null  float64\n",
      " 6   Device_Type                   10000 non-null  int64  \n",
      " 7   Location                      10000 non-null  int64  \n",
      " 8   Merchant_Category             10000 non-null  int64  \n",
      " 9   IP_Address_Flag               10000 non-null  int64  \n",
      " 10  Previous_Fraudulent_Activity  10000 non-null  int64  \n",
      " 11  Daily_Transaction_Count       10000 non-null  int64  \n",
      " 12  Avg_Transaction_Amount_7d     10000 non-null  float64\n",
      " 13  Failed_Transaction_Count_7d   10000 non-null  int64  \n",
      " 14  Card_Type                     10000 non-null  int64  \n",
      " 15  Card_Age                      10000 non-null  int64  \n",
      " 16  Transaction_Distance          10000 non-null  float64\n",
      " 17  Authentication_Method         10000 non-null  int64  \n",
      " 18  Risk_Score                    10000 non-null  float64\n",
      " 19  Is_Weekend                    10000 non-null  int64  \n",
      " 20  Fraud_Label                   10000 non-null  int64  \n",
      "dtypes: float64(5), int64(14), object(2)\n",
      "memory usage: 1.7+ MB\n"
     ]
    }
   ],
   "execution_count": 8
  },
  {
   "metadata": {
    "ExecuteTime": {
     "end_time": "2025-07-20T06:45:57.672431Z",
     "start_time": "2025-07-20T06:45:57.654443Z"
    }
   },
   "cell_type": "code",
   "source": [
    "#Collecting required features\n",
    "\n",
    "feature_columns = ['Transaction_Amount', 'Transaction_Type', 'Account_Balance', 'Location', 'Merchant_Category', 'IP_Address_Flag','Card_Type', 'Authentication_Method', 'Daily_Transaction_Count', 'Card_Age', 'Transaction_Distance', 'Risk_Score', 'Is_Weekend', 'Failed_Transaction_Count_7d', 'Avg_Transaction_Amount_7d', 'Previous_Fraudulent_Activity']\n",
    "\n",
    "target = 'Fraud_Label'\n",
    "\n",
    "X_train = train_df[feature_columns].values\n",
    "y_train = train_df[target].values\n",
    "\n",
    "#\n",
    "# le = pre.LabelEncoder()\n",
    "# train_df['attack_cat_encoded'] = le.fit_transform(train_df['attack_cat'])\n",
    "\n",
    "X_test = test_df[feature_columns].values\n",
    "y_test = test_df[target].values\n",
    "\n",
    "X_val = val_df[feature_columns].values\n",
    "y_val = val_df[target].values\n"
   ],
   "id": "d879d96c98190a1f",
   "outputs": [],
   "execution_count": 9
  },
  {
   "metadata": {
    "ExecuteTime": {
     "end_time": "2025-07-20T06:45:58.390659Z",
     "start_time": "2025-07-20T06:45:58.384649Z"
    }
   },
   "cell_type": "code",
   "source": [
    "# original_train_rows = len(train_df)\n",
    "# train_df = train_df[~((train_df['oldbalanceOrg'] == 0) & (train_df['newbalanceOrig'] == 0))]\n",
    "# train_df = train_df[~((train_df['oldbalanceDest'] == 0) & (train_df['oldbalanceDest'] == 0))]\n",
    "# filtered_train_rows = len(train_df)\n",
    "# print(f\"Train_df: Filtered {original_train_rows - filtered_train_rows} rows where oldbalanceOrg and newbalanceOrig were both 0.\")\n",
    "# print(f\"Remaining train_df rows: {filtered_train_rows}\")\n",
    "#\n",
    "# original_test_rows = len(test_df)\n",
    "# test_df = test_df[~((test_df['oldbalanceOrg'] == 0) & (test_df['newbalanceOrig'] == 0))]\n",
    "# test_df = test_df[~((test_df['oldbalanceDest'] == 0) & (test_df['newbalanceDest'] == 0))]\n",
    "# filtered_test_rows = len(test_df)\n",
    "# print(f\"Test_df: Filtered {original_test_rows - filtered_test_rows} rows where oldbalanceOrg and newbalanceOrig were both 0.\")\n",
    "# print(f\"Remaining test_df rows: {filtered_test_rows}\")\n"
   ],
   "id": "8e8a7f63e5bffd1d",
   "outputs": [],
   "execution_count": 10
  },
  {
   "metadata": {
    "ExecuteTime": {
     "end_time": "2025-07-20T06:45:59.276054Z",
     "start_time": "2025-07-20T06:45:59.015072Z"
    }
   },
   "cell_type": "code",
   "source": [
    "#Converting to tensor\n",
    "scaler = StandardScaler()\n",
    "\n",
    "X_train_scaled = scaler.fit_transform(X_train)\n",
    "X_test_scaled = scaler.transform(X_test)\n",
    "X_val_scaled = scaler.transform(X_val)\n",
    "\n",
    "# Converting to tensor and moving to the selected device\n",
    "\n",
    "X_train_tensor = torch.tensor(X_train_scaled, dtype=torch.float32).unsqueeze(1).to(device)\n",
    "y_train_tensor = torch.tensor(y_train, dtype=torch.long).to(device)\n",
    "\n",
    "X_test_tensor = torch.tensor(X_test_scaled, dtype=torch.float32).unsqueeze(1).to(device)\n",
    "y_test_tensor = torch.tensor(y_test, dtype=torch.long).to(device)\n",
    "\n",
    "X_val_tensor = torch.tensor(X_val_scaled, dtype=torch.float32).unsqueeze(1).to(device)\n",
    "y_val_tensor = torch.tensor(y_val, dtype=torch.long).to(device)"
   ],
   "id": "81120687472a7ab",
   "outputs": [],
   "execution_count": 11
  },
  {
   "metadata": {
    "ExecuteTime": {
     "end_time": "2025-07-20T06:45:59.572271Z",
     "start_time": "2025-07-20T06:45:59.565372Z"
    }
   },
   "cell_type": "code",
   "source": [
    "BATCH_SIZE = 64\n",
    "train_dataset = TensorDataset(X_train_tensor, y_train_tensor)\n",
    "train_loader = DataLoader(train_dataset, batch_size=BATCH_SIZE, shuffle=True)\n",
    "\n",
    "test_dataset = TensorDataset(X_test_tensor, y_test_tensor)\n",
    "test_loader = DataLoader(test_dataset, batch_size=BATCH_SIZE, shuffle=False)\n",
    "\n",
    "val_dataset = TensorDataset(X_val_tensor, y_val_tensor)\n",
    "val_loader = DataLoader(val_dataset, batch_size=BATCH_SIZE, shuffle=False)\n",
    "print(\"Data loaded from CSV and prepared for PyTorch.\")\n",
    "print(\"Training data shape:\", X_train_tensor.shape)\n",
    "print(\"Test data shape:\", X_test_tensor.shape)\n",
    "print(f\"Number of unique labels (classes): {len(np.unique(y_train))}\")\n"
   ],
   "id": "6f4f459bdb0bd14b",
   "outputs": [
    {
     "name": "stdout",
     "output_type": "stream",
     "text": [
      "Data loaded from CSV and prepared for PyTorch.\n",
      "Training data shape: torch.Size([30000, 1, 16])\n",
      "Test data shape: torch.Size([10000, 1, 16])\n",
      "Number of unique labels (classes): 2\n"
     ]
    }
   ],
   "execution_count": 12
  },
  {
   "metadata": {
    "ExecuteTime": {
     "end_time": "2025-07-20T06:46:01.248621Z",
     "start_time": "2025-07-20T06:46:01.238769Z"
    }
   },
   "cell_type": "code",
   "source": [
    "class Net1DCNN(nn.Module):\n",
    "    def __init__(self, input_channels, sequence_length, num_classes):\n",
    "        super(Net1DCNN, self).__init__()\n",
    "\n",
    "        self.conv1 = nn.Conv1d(in_channels=input_channels, out_channels=16, kernel_size=3, padding=1)\n",
    "        self.relu1 = nn.ReLU()\n",
    "        self.pool1 = nn.MaxPool1d(kernel_size=2, stride=2)\n",
    "\n",
    "        self.conv2 = nn.Conv1d(in_channels=16, out_channels=32, kernel_size=3, padding=1)\n",
    "        self.relu2 = nn.ReLU()\n",
    "        self.pool2 = nn.MaxPool1d(kernel_size=2, stride=2)\n",
    "\n",
    "\n",
    "        # self.fc1 = nn.Linear(160 * 1, 64)\n",
    "        # self.fc2 = nn.Linear(64, num_classes)\n",
    "\n",
    "        with torch.no_grad():\n",
    "            dummy_input = torch.randn(1, input_channels, sequence_length)\n",
    "            dummy_output = self.pool1(self.relu1(self.conv1(dummy_input)))\n",
    "            dummy_output = self.pool2(self.relu2(self.conv2(dummy_output)))\n",
    "            flattened_size = dummy_output.view(dummy_output.size(0), -1).shape[1]\n",
    "\n",
    "        self.fc1 = nn.Linear(flattened_size, 32)\n",
    "        self.relu_fc = nn.ReLU()\n",
    "        self.fc2 = nn.Linear(32, num_classes)\n",
    "\n",
    "        self.dropout1 = nn.Dropout(p=0.4)\n",
    "        self.dropout2 = nn.Dropout(p=0.4)\n",
    "\n",
    "    def forward(self, x):\n",
    "        x = self.conv1(x)\n",
    "        x = self.relu1(x)\n",
    "        x = self.pool1(x)\n",
    "\n",
    "        # x = self.conv2(x)\n",
    "        # x = self.relu2(x)\n",
    "        # x = self.pool2(x)\n",
    "\n",
    "        x = x.view(x.size(0), -1)\n",
    "        x = self.dropout1(x)\n",
    "\n",
    "        x = self.fc1(x)\n",
    "        x = self.relu_fc(x)\n",
    "        x = self.dropout2(x)\n",
    "\n",
    "        x = self.fc2(x)\n",
    "        return x\n"
   ],
   "id": "6170ce8e879f03f9",
   "outputs": [],
   "execution_count": 13
  },
  {
   "metadata": {
    "ExecuteTime": {
     "end_time": "2025-07-20T06:47:20.724886Z",
     "start_time": "2025-07-20T06:46:02.853701Z"
    }
   },
   "cell_type": "code",
   "source": [
    "input_channels = X_train_tensor.shape[1]\n",
    "sequence_length = X_train_tensor.shape[2]\n",
    "num_classes = len(np.unique(y_train))\n",
    "\n",
    "model = Net1DCNN(input_channels=input_channels, sequence_length=sequence_length, num_classes=num_classes).to(device)\n",
    "criterion = nn.CrossEntropyLoss()\n",
    "\n",
    "#Optimizers\n",
    "optimizer = optim.Adam(model.parameters(), lr=0.0001, weight_decay=1e-2)\n",
    "# optimizer = optim.SGD(model.parameters(), lr=0.002, momentum=0.001)\n",
    "# scheduler = ReduceLROnPlateau(optimizer, mode='max', factor=0.05, patience=2)\n",
    "\n",
    "num_epochs = 20\n",
    "taccuracy_1dcnn = []\n",
    "print(\"\\nStarting model training...\")\n",
    "for epoch in range(num_epochs):\n",
    "    model.train()\n",
    "    running_loss = 0.0\n",
    "    for inputs, labels in train_loader:\n",
    "        inputs, labels = inputs.to(device), labels.to(device)\n",
    "\n",
    "        optimizer.zero_grad()\n",
    "        outputs = model(inputs)\n",
    "        loss = criterion(outputs, labels)\n",
    "        loss.backward()\n",
    "        optimizer.step()\n",
    "\n",
    "        running_loss += loss.item()\n",
    "\n",
    "    model.eval()\n",
    "    correct = 0\n",
    "    total = 0\n",
    "    with torch.no_grad():\n",
    "        for inputs, labels in val_loader:\n",
    "            inputs, labels = inputs.to(device), labels.to(device)\n",
    "            outputs = model(inputs)\n",
    "            _, predicted = torch.max(outputs.data, 1)\n",
    "            total += labels.size(0)\n",
    "            correct += (predicted == labels).sum().item()\n",
    "\n",
    "    train_accuracy = 100 * correct / total\n",
    "    # scheduler.step(train_accuracy)\n",
    "    taccuracy_1dcnn.append(train_accuracy)\n",
    "\n",
    "\n",
    "    print(f\"Epoch [{epoch+1}/{num_epochs}], Loss: {running_loss/len(train_loader):.4f}, Train Accuracy: {train_accuracy:.2f}%\")\n",
    "\n",
    "print(\"Training finished.\")"
   ],
   "id": "33716de3afbcb857",
   "outputs": [
    {
     "name": "stdout",
     "output_type": "stream",
     "text": [
      "\n",
      "Starting model training...\n",
      "Epoch [1/20], Loss: 0.6256, Train Accuracy: 69.02%\n",
      "Epoch [2/20], Loss: 0.5494, Train Accuracy: 76.34%\n",
      "Epoch [3/20], Loss: 0.4984, Train Accuracy: 79.20%\n",
      "Epoch [4/20], Loss: 0.4710, Train Accuracy: 81.13%\n",
      "Epoch [5/20], Loss: 0.4612, Train Accuracy: 82.38%\n",
      "Epoch [6/20], Loss: 0.4427, Train Accuracy: 83.99%\n",
      "Epoch [7/20], Loss: 0.4287, Train Accuracy: 85.11%\n",
      "Epoch [8/20], Loss: 0.4177, Train Accuracy: 86.20%\n",
      "Epoch [9/20], Loss: 0.4081, Train Accuracy: 86.87%\n",
      "Epoch [10/20], Loss: 0.3977, Train Accuracy: 87.93%\n",
      "Epoch [11/20], Loss: 0.3898, Train Accuracy: 88.73%\n",
      "Epoch [12/20], Loss: 0.3755, Train Accuracy: 89.18%\n",
      "Epoch [13/20], Loss: 0.3658, Train Accuracy: 90.42%\n",
      "Epoch [14/20], Loss: 0.3532, Train Accuracy: 90.91%\n",
      "Epoch [15/20], Loss: 0.3483, Train Accuracy: 92.11%\n",
      "Epoch [16/20], Loss: 0.3337, Train Accuracy: 92.17%\n",
      "Epoch [17/20], Loss: 0.3281, Train Accuracy: 92.91%\n",
      "Epoch [18/20], Loss: 0.3149, Train Accuracy: 93.40%\n",
      "Epoch [19/20], Loss: 0.3122, Train Accuracy: 93.44%\n",
      "Epoch [20/20], Loss: 0.3044, Train Accuracy: 93.89%\n",
      "Training finished.\n"
     ]
    }
   ],
   "execution_count": 14
  },
  {
   "metadata": {
    "ExecuteTime": {
     "end_time": "2025-07-20T06:58:25.378106Z",
     "start_time": "2025-07-20T06:58:25.370793Z"
    }
   },
   "cell_type": "code",
   "source": [
    "class NetLSTM(nn.Module):\n",
    "    def __init__(self, input_channels, sequence_length, num_classes, hidden_size=32, dropout=0.2):\n",
    "        super(NetLSTM, self).__init__()\n",
    "        self.hidden_size = hidden_size\n",
    "        self.num_layers = 2\n",
    "\n",
    "        self.lstm = nn.LSTM(input_size=input_channels, hidden_size=hidden_size,\n",
    "                            num_layers=self.num_layers, batch_first=True, dropout=dropout)\n",
    "\n",
    "        self.fc = nn.Linear(hidden_size, num_classes)\n",
    "\n",
    "    def forward(self, x):\n",
    "        x = x.permute(0, 2, 1)\n",
    "\n",
    "        out, (hn, cn) = self.lstm(x)\n",
    "\n",
    "        final_output = out[:, -1, :]\n",
    "\n",
    "        out = self.fc(final_output)\n",
    "        return out"
   ],
   "id": "167478d019657bfd",
   "outputs": [],
   "execution_count": 30
  },
  {
   "metadata": {
    "ExecuteTime": {
     "end_time": "2025-07-20T06:59:47.202105Z",
     "start_time": "2025-07-20T06:58:26.913494Z"
    }
   },
   "cell_type": "code",
   "source": [
    "input_channels = X_train_tensor.shape[1]\n",
    "sequence_length = X_train_tensor.shape[2]\n",
    "num_classes = len(np.unique(y_train))\n",
    "\n",
    "model = NetLSTM (input_channels=input_channels, sequence_length=sequence_length, num_classes=num_classes).to(device)\n",
    "criterion = nn.CrossEntropyLoss()\n",
    "\n",
    "#Optimizers\n",
    "optimizer = optim.Adam(model.parameters(), lr=0.00008)\n",
    "# optimizer = optim.SGD(model.parameters(), lr=0.0045, momentum=0.001)\n",
    "scheduler = ReduceLROnPlateau(optimizer, mode='max', factor=0.05, patience=2)\n",
    "\n",
    "\n",
    "num_epochs = 20\n",
    "taccuracy_lstm = []\n",
    "print(\"\\nStarting model training...\")\n",
    "for epoch in range(num_epochs):\n",
    "    model.train()\n",
    "    running_loss = 0.0\n",
    "    for inputs, labels in train_loader:\n",
    "        inputs, labels = inputs.to(device), labels.to(device)\n",
    "\n",
    "        optimizer.zero_grad()\n",
    "        outputs = model(inputs)\n",
    "        loss = criterion(outputs, labels)\n",
    "        loss.backward()\n",
    "        optimizer.step()\n",
    "\n",
    "        running_loss += loss.item()\n",
    "\n",
    "    model.eval()\n",
    "    correct = 0\n",
    "    total = 0\n",
    "    with torch.no_grad():\n",
    "        for inputs, labels in val_loader:\n",
    "            inputs, labels = inputs.to(device), labels.to(device)\n",
    "            outputs = model(inputs)\n",
    "            _, predicted = torch.max(outputs.data, 1)\n",
    "            total += labels.size(0)\n",
    "            correct += (predicted == labels).sum().item()\n",
    "\n",
    "    train_accuracy = 100 * correct / total\n",
    "    taccuracy_lstm.append(train_accuracy)\n",
    "    scheduler.step(train_accuracy)\n",
    "\n",
    "    print(f\"Epoch [{epoch+1}/{num_epochs}], Loss: {running_loss/len(train_loader):.4f}, Train Accuracy: {train_accuracy:.2f}%\")\n",
    "\n",
    "print(\"Training finished.\")"
   ],
   "id": "31183a96104383ef",
   "outputs": [
    {
     "name": "stdout",
     "output_type": "stream",
     "text": [
      "\n",
      "Starting model training...\n",
      "Epoch [1/20], Loss: 0.6520, Train Accuracy: 67.85%\n",
      "Epoch [2/20], Loss: 0.5750, Train Accuracy: 70.06%\n",
      "Epoch [3/20], Loss: 0.5419, Train Accuracy: 71.50%\n",
      "Epoch [4/20], Loss: 0.5257, Train Accuracy: 71.61%\n",
      "Epoch [5/20], Loss: 0.5149, Train Accuracy: 71.71%\n",
      "Epoch [6/20], Loss: 0.5065, Train Accuracy: 71.90%\n",
      "Epoch [7/20], Loss: 0.4986, Train Accuracy: 72.14%\n",
      "Epoch [8/20], Loss: 0.4918, Train Accuracy: 71.87%\n",
      "Epoch [9/20], Loss: 0.4846, Train Accuracy: 72.13%\n",
      "Epoch [10/20], Loss: 0.4782, Train Accuracy: 72.35%\n",
      "Epoch [11/20], Loss: 0.4712, Train Accuracy: 72.42%\n",
      "Epoch [12/20], Loss: 0.4621, Train Accuracy: 72.96%\n",
      "Epoch [13/20], Loss: 0.4531, Train Accuracy: 74.01%\n",
      "Epoch [14/20], Loss: 0.4400, Train Accuracy: 75.36%\n",
      "Epoch [15/20], Loss: 0.4238, Train Accuracy: 78.10%\n",
      "Epoch [16/20], Loss: 0.4007, Train Accuracy: 81.45%\n",
      "Epoch [17/20], Loss: 0.3689, Train Accuracy: 84.88%\n",
      "Epoch [18/20], Loss: 0.3309, Train Accuracy: 87.75%\n",
      "Epoch [19/20], Loss: 0.2844, Train Accuracy: 91.20%\n",
      "Epoch [20/20], Loss: 0.2310, Train Accuracy: 94.39%\n",
      "Training finished.\n"
     ]
    }
   ],
   "execution_count": 31
  },
  {
   "metadata": {
    "ExecuteTime": {
     "end_time": "2025-07-20T06:55:25.424025Z",
     "start_time": "2025-07-20T06:55:25.413496Z"
    }
   },
   "cell_type": "code",
   "source": [
    "class NetGRU(nn.Module):\n",
    "    def __init__(self, input_channels, sequence_length, num_classes, hidden_size=128, dropout=0.2):\n",
    "        super(NetGRU, self).__init__()\n",
    "        self.hidden_size = hidden_size\n",
    "        self.num_layers = 3\n",
    "\n",
    "        self.gru = nn.GRU(input_size=input_channels, hidden_size=hidden_size,\n",
    "                          num_layers=self.num_layers, batch_first=True, dropout=dropout)\n",
    "\n",
    "        self.fc = nn.Linear(hidden_size, num_classes)\n",
    "\n",
    "    def forward(self, x):\n",
    "        x = x.permute(0, 2, 1)\n",
    "\n",
    "        out, hn = self.gru(x)\n",
    "\n",
    "        final_output = out[:, -1, :]\n",
    "\n",
    "        out = self.fc(final_output)\n",
    "        return out"
   ],
   "id": "ba7daa334e9f9180",
   "outputs": [],
   "execution_count": 25
  },
  {
   "metadata": {
    "ExecuteTime": {
     "end_time": "2025-07-20T06:56:27.918936Z",
     "start_time": "2025-07-20T06:55:26.700322Z"
    }
   },
   "cell_type": "code",
   "source": [
    "input_channels = X_train_tensor.shape[1]\n",
    "sequence_length = X_train_tensor.shape[2]\n",
    "num_classes = len(np.unique(y_train))\n",
    "\n",
    "model = NetGRU (input_channels=input_channels, sequence_length=sequence_length, num_classes=num_classes).to(device)\n",
    "criterion = nn.CrossEntropyLoss()\n",
    "\n",
    "#Optimizers\n",
    "optimizer = optim.Adam(model.parameters(), lr=0.0000175)\n",
    "# optimizer = optim.SGD(model.parameters(), lr=0.005, momentum=0.001)\n",
    "scheduler = ReduceLROnPlateau(optimizer, mode='max', factor=0.05, patience=3)\n",
    "\n",
    "num_epochs = 20\n",
    "\n",
    "taccuracy_gru = []\n",
    "print(\"\\nStarting model training...\")\n",
    "for epoch in range(num_epochs):\n",
    "    model.train()\n",
    "    running_loss = 0.0\n",
    "    for inputs, labels in train_loader:\n",
    "        inputs, labels = inputs.to(device), labels.to(device)\n",
    "\n",
    "        optimizer.zero_grad()\n",
    "        outputs = model(inputs)\n",
    "        loss = criterion(outputs, labels)\n",
    "        loss.backward()\n",
    "        optimizer.step()\n",
    "\n",
    "        running_loss += loss.item()\n",
    "\n",
    "    model.eval()\n",
    "    correct = 0\n",
    "    total = 0\n",
    "    with torch.no_grad():\n",
    "        for inputs, labels in val_loader:\n",
    "            inputs, labels = inputs.to(device), labels.to(device)\n",
    "            outputs = model(inputs)\n",
    "            _, predicted = torch.max(outputs.data, 1)\n",
    "            total += labels.size(0)\n",
    "            correct += (predicted == labels).sum().item()\n",
    "\n",
    "    train_accuracy = 100 * correct / total\n",
    "    scheduler.step(train_accuracy)\n",
    "\n",
    "    taccuracy_gru.append(train_accuracy)\n",
    "\n",
    "\n",
    "    print(f\"Epoch [{epoch+1}/{num_epochs}], Loss: {running_loss/len(train_loader):.4f}, Train Accuracy: {train_accuracy:.2f}%\")\n",
    "\n",
    "print(\"Training finished.\")"
   ],
   "id": "862f64f127cbe062",
   "outputs": [
    {
     "name": "stdout",
     "output_type": "stream",
     "text": [
      "\n",
      "Starting model training...\n",
      "Epoch [1/20], Loss: 0.6134, Train Accuracy: 69.01%\n",
      "Epoch [2/20], Loss: 0.5465, Train Accuracy: 71.76%\n",
      "Epoch [3/20], Loss: 0.5251, Train Accuracy: 71.64%\n",
      "Epoch [4/20], Loss: 0.5191, Train Accuracy: 71.80%\n",
      "Epoch [5/20], Loss: 0.5129, Train Accuracy: 71.71%\n",
      "Epoch [6/20], Loss: 0.5061, Train Accuracy: 71.92%\n",
      "Epoch [7/20], Loss: 0.4991, Train Accuracy: 71.81%\n",
      "Epoch [8/20], Loss: 0.4925, Train Accuracy: 72.15%\n",
      "Epoch [9/20], Loss: 0.4866, Train Accuracy: 72.07%\n",
      "Epoch [10/20], Loss: 0.4802, Train Accuracy: 72.08%\n",
      "Epoch [11/20], Loss: 0.4744, Train Accuracy: 72.08%\n",
      "Epoch [12/20], Loss: 0.4659, Train Accuracy: 72.66%\n",
      "Epoch [13/20], Loss: 0.4551, Train Accuracy: 73.58%\n",
      "Epoch [14/20], Loss: 0.4391, Train Accuracy: 75.04%\n",
      "Epoch [15/20], Loss: 0.4160, Train Accuracy: 78.53%\n",
      "Epoch [16/20], Loss: 0.3777, Train Accuracy: 83.60%\n",
      "Epoch [17/20], Loss: 0.3160, Train Accuracy: 88.49%\n",
      "Epoch [18/20], Loss: 0.2348, Train Accuracy: 92.84%\n",
      "Epoch [19/20], Loss: 0.1716, Train Accuracy: 96.30%\n",
      "Epoch [20/20], Loss: 0.1272, Train Accuracy: 97.49%\n",
      "Training finished.\n"
     ]
    }
   ],
   "execution_count": 26
  },
  {
   "metadata": {},
   "cell_type": "code",
   "outputs": [],
   "execution_count": null,
   "source": [
    "class TransformerNet(nn.Module):\n",
    "    def __init__(self, num_features, d_model, nhead, num_encoder_layers, dim_feedforward, dropout=0.1):\n",
    "        super().__init__()\n",
    "        self.feature_embeddings = nn.Linear(num_features, d_model)\n",
    "        self.positional_encoding = nn.Parameter(torch.randn(1, 100, d_model))\n",
    "\n",
    "        encoder_layer = nn.TransformerEncoderLayer(d_model=d_model, nhead=nhead,\n",
    "                                                   dim_feedforward=dim_feedforward, dropout=dropout, batch_first=True)\n",
    "        self.transformer_encoder = nn.TransformerEncoder(encoder_layer, num_layers=num_encoder_layers)\n",
    "\n",
    "        self.classification_head = nn.Linear(d_model, 1)\n",
    "\n",
    "    def forward(self, x):\n",
    "\n",
    "        x = self.feature_embeddings(x)\n",
    "        x = x + self.positional_encoding[:, :x.size(1), :]\n",
    "\n",
    "        transformer_output = self.transformer_encoder(x)\n",
    "        pooled_output = transformer_output[:, 0, :]\n",
    "\n",
    "        output = self.classification_head(pooled_output)\n",
    "        return torch.sigmoid(output)"
   ],
   "id": "1d8cd15d2ad1c80b"
  },
  {
   "metadata": {
    "ExecuteTime": {
     "end_time": "2025-07-20T07:01:14.373410Z",
     "start_time": "2025-07-20T07:01:12.775221Z"
    }
   },
   "cell_type": "code",
   "source": [
    "all_preds = []\n",
    "all_probs = []\n",
    "all_labels = []\n",
    "\n",
    "model.eval()\n",
    "with torch.no_grad():\n",
    "    for inputs, labels in test_loader:\n",
    "        inputs, labels = inputs.to(device), labels.to(device)\n",
    "\n",
    "        outputs = model(inputs)\n",
    "        probs = F.softmax(outputs, dim=1)\n",
    "        _, predicted = torch.max(probs, 1)\n",
    "\n",
    "        all_preds.extend(predicted.cpu().numpy())\n",
    "        all_probs.extend(probs.cpu().numpy())\n",
    "        all_labels.extend(labels.cpu().numpy())\n",
    "\n",
    "all_preds = np.array(all_preds)\n",
    "all_labels = np.array(all_labels)\n",
    "all_probs = np.array(all_probs)\n"
   ],
   "id": "40a63e320bb1cf8a",
   "outputs": [],
   "execution_count": 32
  },
  {
   "metadata": {
    "ExecuteTime": {
     "end_time": "2025-07-20T07:01:16.091410Z",
     "start_time": "2025-07-20T07:01:15.888967Z"
    }
   },
   "cell_type": "code",
   "source": [
    "cmap = plt.get_cmap('Blues')\n",
    "\n",
    "cm = confusion_matrix(all_labels, all_preds)\n",
    "\n",
    "fig, ax = plt.subplots()\n",
    "im = ax.matshow(cm, cmap=cmap)\n",
    "\n",
    "class_labels = ['Legitimate', 'Fraud']\n",
    "ax.set_xticks(np.arange(cm.shape[1]))\n",
    "ax.set_yticks(np.arange(cm.shape[0]))\n",
    "\n",
    "ax.set_xticklabels(class_labels)\n",
    "ax.set_yticklabels(class_labels)\n",
    "\n",
    "\n",
    "\n",
    "for i in range(cm.shape[0]):\n",
    "    for j in range(cm.shape[1]):\n",
    "        ax.text(j, i, str(cm[i, j]),\n",
    "                va='center', ha='center',\n",
    "                color='white', fontsize=10, fontweight='bold')\n",
    "\n",
    "plt.xlabel('Predicted Label')\n",
    "plt.ylabel('True Label')\n",
    "plt.title('Confusion Matrix')\n",
    "plt.colorbar(im)\n",
    "plt.tight_layout()\n",
    "plt.show()"
   ],
   "id": "aba1598832ed1d1f",
   "outputs": [
    {
     "data": {
      "text/plain": [
       "<Figure size 640x480 with 2 Axes>"
      ],
      "image/png": "[encoded data removed]"
     },
     "metadata": {},
     "output_type": "display_data"
    }
   ],
   "execution_count": 33
  },
  {
   "metadata": {
    "ExecuteTime": {
     "end_time": "2025-07-20T07:01:30.708320Z",
     "start_time": "2025-07-20T07:01:30.611997Z"
    }
   },
   "cell_type": "code",
   "source": [
    "#For values without plot\n",
    "cmap = mpl_cm.get_cmap('Blues')\n",
    "cm = confusion_matrix(all_labels, all_preds)\n",
    "fig, ax = plt.subplots()\n",
    "im = ax.matshow(cm, cmap= cmap)\n",
    "\n",
    "norm = matplotlib.colors.Normalize(vmin=cm.min(), vmax=cm.max())\n",
    "\n",
    "print(\"--- Confusion Matrix Cell Colors (Grayscale) ---\")\n",
    "print(\"Mapping: Low Value -> White, High Value -> Black\")\n",
    "print(\"-\" * 50)\n",
    "\n",
    "for i in range(cm.shape[0]):\n",
    "    for j in range(cm.shape[1]):\n",
    "        cell_value = cm[i, j]\n",
    "\n",
    "        normalized_value = norm(cell_value)\n",
    "\n",
    "        rgba_color = cmap(normalized_value)\n",
    "\n",
    "        hex_color = matplotlib.colors.to_hex(rgba_color)\n",
    "\n",
    "        print(f\"Cell ({i}, {j}):\")\n",
    "        print(f\"  Value: {cell_value}\")\n",
    "        print(f\"  Normalized Value (0-1): {normalized_value:.4f}\")\n",
    "        print(f\"  Grayscale Color (RGB): ({rgba_color[0]:.2f}, {rgba_color[1]:.2f}, {rgba_color[2]:.2f})\")\n",
    "        print(f\"  Grayscale Color (Hex): {hex_color}\")\n",
    "        print(\"-\" * 20)\n",
    "\n",
    "print(\"\\n--- Summary of Expected Grayscale Appearance ---\")\n",
    "print(\"Top-Left (3712): Light-to-Medium Gray (closer to the min value)\")\n",
    "print(\"Top-Right (64): Very Light Gray / Close to White (very low value)\")\n",
    "print(\"Bottom-Left (16): White / Extremely Light Gray (the lowest value)\")\n",
    "print(\"Bottom-Right (33144): Black / Very Dark Gray (the highest value)\")\n",
    "print(\"-\" * 50)"
   ],
   "id": "2284b7856b42463",
   "outputs": [
    {
     "name": "stdout",
     "output_type": "stream",
     "text": [
      "--- Confusion Matrix Cell Colors (Grayscale) ---\n",
      "Mapping: Low Value -> White, High Value -> Black\n",
      "--------------------------------------------------\n",
      "Cell (0, 0):\n",
      "  Value: 6592\n",
      "  Normalized Value (0-1): 1.0000\n",
      "  Grayscale Color (RGB): (0.03, 0.19, 0.42)\n",
      "  Grayscale Color (Hex): #08306b\n",
      "--------------------\n",
      "Cell (0, 1):\n",
      "  Value: 203\n",
      "  Normalized Value (0-1): 0.0000\n",
      "  Grayscale Color (RGB): (0.97, 0.98, 1.00)\n",
      "  Grayscale Color (Hex): #f7fbff\n",
      "--------------------\n",
      "Cell (1, 0):\n",
      "  Value: 393\n",
      "  Normalized Value (0-1): 0.0297\n",
      "  Grayscale Color (RGB): (0.95, 0.97, 0.99)\n",
      "  Grayscale Color (Hex): #f2f7fd\n",
      "--------------------\n",
      "Cell (1, 1):\n",
      "  Value: 2812\n",
      "  Normalized Value (0-1): 0.4084\n",
      "  Grayscale Color (RGB): (0.57, 0.76, 0.87)\n",
      "  Grayscale Color (Hex): #91c3de\n",
      "--------------------\n",
      "\n",
      "--- Summary of Expected Grayscale Appearance ---\n",
      "Top-Left (3712): Light-to-Medium Gray (closer to the min value)\n",
      "Top-Right (64): Very Light Gray / Close to White (very low value)\n",
      "Bottom-Left (16): White / Extremely Light Gray (the lowest value)\n",
      "Bottom-Right (33144): Black / Very Dark Gray (the highest value)\n",
      "--------------------------------------------------\n"
     ]
    },
    {
     "name": "stderr",
     "output_type": "stream",
     "text": [
      "C:\\Users\\dudec\\AppData\\Local\\Temp\\ipykernel_33432\\2807856119.py:2: MatplotlibDeprecationWarning: The get_cmap function was deprecated in Matplotlib 3.7 and will be removed in 3.11. Use ``matplotlib.colormaps[name]`` or ``matplotlib.colormaps.get_cmap()`` or ``pyplot.get_cmap()`` instead.\n",
      "  cmap = mpl_cm.get_cmap('Blues')\n"
     ]
    },
    {
     "data": {
      "text/plain": [
       "<Figure size 640x480 with 1 Axes>"
      ],
      "image/png": "[encoded data removed]"
     },
     "metadata": {},
     "output_type": "display_data"
    }
   ],
   "execution_count": 34
  },
  {
   "metadata": {
    "ExecuteTime": {
     "end_time": "2025-07-20T07:01:43.089514Z",
     "start_time": "2025-07-20T07:01:42.948764Z"
    }
   },
   "cell_type": "code",
   "source": [
    "fpr, tpr, thresholds = roc_curve(all_labels, all_probs[:, 1])  # Prob for class 1\n",
    "roc_auc = auc(fpr, tpr)\n",
    "\n",
    "plt.figure()\n",
    "plt.plot(fpr, tpr, color=\"red\", lw=2, label=f\"ROC curve\")\n",
    "plt.plot([0, 1], [0, 1], color=\"navy\", lw=2, linestyle=\"--\")\n",
    "plt.xlim([0.0, 1.0])\n",
    "plt.ylim([0.0, 1.1])\n",
    "plt.xlabel(\"False Positive Rate\")\n",
    "plt.ylabel(\"True Positive Rate\")\n",
    "plt.title(\"Receiver Operating Characteristic - LSTM\")\n",
    "plt.legend(loc=\"lower right\")\n",
    "plt.show()"
   ],
   "id": "3a42da065bed214",
   "outputs": [
    {
     "data": {
      "text/plain": [
       "<Figure size 640x480 with 1 Axes>"
      ],
      "image/png": "[encoded data removed]"
     },
     "metadata": {},
     "output_type": "display_data"
    }
   ],
   "execution_count": 36
  },
  {
   "metadata": {
    "ExecuteTime": {
     "end_time": "2025-07-19T14:38:13.032532Z",
     "start_time": "2025-07-19T14:38:12.757652Z"
    }
   },
   "cell_type": "code",
   "source": [
    "num_epochs = len(taccuracy_gru)\n",
    "epochs = range(1, num_epochs + 1)\n",
    "\n",
    "plt.figure(figsize=(10, 6))\n",
    "plt.plot(epochs, taccuracy_gru, label='GRU Model Accuracy', marker='o', linestyle='-', color='blue')\n",
    "plt.plot(epochs, taccuracy_lstm, label='LSTM Model Accuracy', marker='x', linestyle='--', color='green')\n",
    "plt.plot(epochs, taccuracy_1dcnn, label='1D CNN Model Accuracy', marker='s', linestyle='-.', color='red')\n",
    "\n",
    "plt.title('Training Accuracy Over Epochs for Different Models')\n",
    "plt.xlabel('Epoch')\n",
    "plt.ylabel('Training Accuracy (%)')\n",
    "plt.legend()\n",
    "# plt.grid(True)\n",
    "plt.xticks(epochs)\n",
    "plt.tight_layout()\n",
    "plt.show()"
   ],
   "id": "c1a1082d85699f1d",
   "outputs": [
    {
     "data": {
      "text/plain": [
       "<Figure size 1000x600 with 1 Axes>"
      ],
      "image/png": "[encoded data removed]"
     },
     "metadata": {},
     "output_type": "display_data"
    }
   ],
   "execution_count": 32
  },
  {
   "metadata": {
    "ExecuteTime": {
     "end_time": "2025-07-19T14:38:18.396784Z",
     "start_time": "2025-07-19T14:38:18.240204Z"
    }
   },
   "cell_type": "code",
   "source": [
    "model_dir = 'models'\n",
    "os.makedirs(model_dir, exist_ok=True)\n",
    "model_path = os.path.join(model_dir, 'synfraud_model.pth')\n",
    "\n",
    "\n",
    "torch.save(model.state_dict(), model_path)\n",
    "print(f\"\\nModel saved to {model_path}\")"
   ],
   "id": "e88c7bce866c6de",
   "outputs": [
    {
     "name": "stdout",
     "output_type": "stream",
     "text": [
      "\n",
      "Model saved to models\\synfraud_model.pth\n"
     ]
    }
   ],
   "execution_count": 33
  },
  {
   "metadata": {},
   "cell_type": "code",
   "outputs": [],
   "execution_count": null,
   "source": "",
   "id": "4e53f2674f92e3c5"
  }
 ],
 "metadata": {
  "kernelspec": {
   "display_name": "Python 3",
   "language": "python",
   "name": "python3"
  },
  "language_info": {
   "codemirror_mode": {
    "name": "ipython",
    "version": 2
   },
   "file_extension": ".py",
   "mimetype": "text/x-python",
   "name": "python",
   "nbconvert_exporter": "python",
   "pygments_lexer": "ipython2",
   "version": "2.7.6"
  }
 },
 "nbformat": 4,
 "nbformat_minor": 5
}
