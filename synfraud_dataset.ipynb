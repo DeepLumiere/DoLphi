{
 "cells": [
  {
   "cell_type": "code",
   "id": "initial_id",
   "metadata": {
    "collapsed": true,
    "ExecuteTime": {
     "end_time": "2025-07-18T08:08:36.781458Z",
     "start_time": "2025-07-18T08:06:14.478416Z"
    }
   },
   "source": [
    "#Importing Packages\n",
    "import torch\n",
    "import torch.optim as optim\n",
    "import torch.nn as nn\n",
    "from torch.utils.data import TensorDataset, DataLoader\n",
    "import pandas as pd\n",
    "import numpy as np\n",
    "import matplotlib.pyplot as plt\n",
    "from matplotlib.colors import LinearSegmentedColormap\n",
    "import sklearn.preprocessing as pre\n",
    "from sklearn.preprocessing import StandardScaler\n",
    "from sklearn.metrics import confusion_matrix, roc_curve, auc, RocCurveDisplay, ConfusionMatrixDisplay\n",
    "import torch.nn.functional as F\n",
    "\n",
    "import os\n",
    "from sklearn.model_selection import train_test_split as tts\n",
    "from sklearn.preprocessing import LabelEncoder"
   ],
   "outputs": [],
   "execution_count": 1
  },
  {
   "metadata": {
    "ExecuteTime": {
     "end_time": "2025-07-18T08:09:23.415334Z",
     "start_time": "2025-07-18T08:09:22.165626Z"
    }
   },
   "cell_type": "code",
   "source": [
    "#Move to CUDA if available\n",
    "device = torch.device(\"cuda\" if torch.cuda.is_available() else \"cpu\")\n",
    "print(f\"Using device: {device}\")"
   ],
   "id": "59b1997730f08f4c",
   "outputs": [
    {
     "name": "stdout",
     "output_type": "stream",
     "text": [
      "Using device: cuda\n"
     ]
    }
   ],
   "execution_count": 2
  },
  {
   "metadata": {
    "ExecuteTime": {
     "end_time": "2025-07-18T08:09:37.493448Z",
     "start_time": "2025-07-18T08:09:37.284577Z"
    }
   },
   "cell_type": "code",
   "source": [
    "# #Importing data from UNSW_NB15\n",
    "# train_df = pd.read_csv('data/UNSW_NB15_training-set.csv')\n",
    "# test_df = pd.read_csv('data/UNSW_NB15_testing-set.csv')\n",
    "# https://www.kaggle.com/datasets/samayashar/fraud-detection-transactions-dataset\n",
    "df = pd.read_csv('data/synthetic_fraud_dataset.csv')\n",
    "\n",
    "df.info()"
   ],
   "id": "3a8cdff9faac9e5c",
   "outputs": [
    {
     "name": "stdout",
     "output_type": "stream",
     "text": [
      "<class 'pandas.core.frame.DataFrame'>\n",
      "RangeIndex: 50000 entries, 0 to 49999\n",
      "Data columns (total 21 columns):\n",
      " #   Column                        Non-Null Count  Dtype  \n",
      "---  ------                        --------------  -----  \n",
      " 0   Transaction_ID                50000 non-null  object \n",
      " 1   User_ID                       50000 non-null  object \n",
      " 2   Transaction_Amount            50000 non-null  float64\n",
      " 3   Transaction_Type              50000 non-null  object \n",
      " 4   Timestamp                     50000 non-null  object \n",
      " 5   Account_Balance               50000 non-null  float64\n",
      " 6   Device_Type                   50000 non-null  object \n",
      " 7   Location                      50000 non-null  object \n",
      " 8   Merchant_Category             50000 non-null  object \n",
      " 9   IP_Address_Flag               50000 non-null  int64  \n",
      " 10  Previous_Fraudulent_Activity  50000 non-null  int64  \n",
      " 11  Daily_Transaction_Count       50000 non-null  int64  \n",
      " 12  Avg_Transaction_Amount_7d     50000 non-null  float64\n",
      " 13  Failed_Transaction_Count_7d   50000 non-null  int64  \n",
      " 14  Card_Type                     50000 non-null  object \n",
      " 15  Card_Age                      50000 non-null  int64  \n",
      " 16  Transaction_Distance          50000 non-null  float64\n",
      " 17  Authentication_Method         50000 non-null  object \n",
      " 18  Risk_Score                    50000 non-null  float64\n",
      " 19  Is_Weekend                    50000 non-null  int64  \n",
      " 20  Fraud_Label                   50000 non-null  int64  \n",
      "dtypes: float64(5), int64(7), object(9)\n",
      "memory usage: 8.0+ MB\n"
     ]
    }
   ],
   "execution_count": 3
  },
  {
   "metadata": {
    "ExecuteTime": {
     "end_time": "2025-07-18T08:09:38.647576Z",
     "start_time": "2025-07-18T08:09:38.469616Z"
    }
   },
   "cell_type": "code",
   "source": [
    "object_cols = ['Transaction_Type', 'Timestamp', 'Device_Type', 'Location', 'Merchant_Category', 'Card_Type', 'Authentication_Method']\n",
    "\n",
    "# Initialize LabelEncoder\n",
    "le = LabelEncoder()\n",
    "\n",
    "# Apply Label Encoding to each object column\n",
    "for col in object_cols:\n",
    "    df[col] = le.fit_transform(df[col])\n",
    "\n",
    "train_df, test_df = tts(df, test_size=0.2)\n",
    "\n",
    "train_df, val_df = tts(train_df, test_size=0.25)\n"
   ],
   "id": "e4e915c9a4184925",
   "outputs": [],
   "execution_count": 4
  },
  {
   "metadata": {
    "ExecuteTime": {
     "end_time": "2025-07-18T08:09:39.037833Z",
     "start_time": "2025-07-18T08:09:39.021255Z"
    }
   },
   "cell_type": "code",
   "source": "train_df.info()",
   "id": "70b49f8f7d6cd472",
   "outputs": [
    {
     "name": "stdout",
     "output_type": "stream",
     "text": [
      "<class 'pandas.core.frame.DataFrame'>\n",
      "Index: 30000 entries, 7652 to 42002\n",
      "Data columns (total 21 columns):\n",
      " #   Column                        Non-Null Count  Dtype  \n",
      "---  ------                        --------------  -----  \n",
      " 0   Transaction_ID                30000 non-null  object \n",
      " 1   User_ID                       30000 non-null  object \n",
      " 2   Transaction_Amount            30000 non-null  float64\n",
      " 3   Transaction_Type              30000 non-null  int64  \n",
      " 4   Timestamp                     30000 non-null  int64  \n",
      " 5   Account_Balance               30000 non-null  float64\n",
      " 6   Device_Type                   30000 non-null  int64  \n",
      " 7   Location                      30000 non-null  int64  \n",
      " 8   Merchant_Category             30000 non-null  int64  \n",
      " 9   IP_Address_Flag               30000 non-null  int64  \n",
      " 10  Previous_Fraudulent_Activity  30000 non-null  int64  \n",
      " 11  Daily_Transaction_Count       30000 non-null  int64  \n",
      " 12  Avg_Transaction_Amount_7d     30000 non-null  float64\n",
      " 13  Failed_Transaction_Count_7d   30000 non-null  int64  \n",
      " 14  Card_Type                     30000 non-null  int64  \n",
      " 15  Card_Age                      30000 non-null  int64  \n",
      " 16  Transaction_Distance          30000 non-null  float64\n",
      " 17  Authentication_Method         30000 non-null  int64  \n",
      " 18  Risk_Score                    30000 non-null  float64\n",
      " 19  Is_Weekend                    30000 non-null  int64  \n",
      " 20  Fraud_Label                   30000 non-null  int64  \n",
      "dtypes: float64(5), int64(14), object(2)\n",
      "memory usage: 5.0+ MB\n"
     ]
    }
   ],
   "execution_count": 5
  },
  {
   "metadata": {
    "ExecuteTime": {
     "end_time": "2025-07-18T08:09:39.558642Z",
     "start_time": "2025-07-18T08:09:39.544213Z"
    }
   },
   "cell_type": "code",
   "source": "test_df.info()",
   "id": "35c969b3ddc43ad7",
   "outputs": [
    {
     "name": "stdout",
     "output_type": "stream",
     "text": [
      "<class 'pandas.core.frame.DataFrame'>\n",
      "Index: 10000 entries, 15858 to 1603\n",
      "Data columns (total 21 columns):\n",
      " #   Column                        Non-Null Count  Dtype  \n",
      "---  ------                        --------------  -----  \n",
      " 0   Transaction_ID                10000 non-null  object \n",
      " 1   User_ID                       10000 non-null  object \n",
      " 2   Transaction_Amount            10000 non-null  float64\n",
      " 3   Transaction_Type              10000 non-null  int64  \n",
      " 4   Timestamp                     10000 non-null  int64  \n",
      " 5   Account_Balance               10000 non-null  float64\n",
      " 6   Device_Type                   10000 non-null  int64  \n",
      " 7   Location                      10000 non-null  int64  \n",
      " 8   Merchant_Category             10000 non-null  int64  \n",
      " 9   IP_Address_Flag               10000 non-null  int64  \n",
      " 10  Previous_Fraudulent_Activity  10000 non-null  int64  \n",
      " 11  Daily_Transaction_Count       10000 non-null  int64  \n",
      " 12  Avg_Transaction_Amount_7d     10000 non-null  float64\n",
      " 13  Failed_Transaction_Count_7d   10000 non-null  int64  \n",
      " 14  Card_Type                     10000 non-null  int64  \n",
      " 15  Card_Age                      10000 non-null  int64  \n",
      " 16  Transaction_Distance          10000 non-null  float64\n",
      " 17  Authentication_Method         10000 non-null  int64  \n",
      " 18  Risk_Score                    10000 non-null  float64\n",
      " 19  Is_Weekend                    10000 non-null  int64  \n",
      " 20  Fraud_Label                   10000 non-null  int64  \n",
      "dtypes: float64(5), int64(14), object(2)\n",
      "memory usage: 1.7+ MB\n"
     ]
    }
   ],
   "execution_count": 6
  },
  {
   "metadata": {
    "ExecuteTime": {
     "end_time": "2025-07-18T08:09:40.357115Z",
     "start_time": "2025-07-18T08:09:40.340791Z"
    }
   },
   "cell_type": "code",
   "source": [
    "#Collecting required features\n",
    "\n",
    "feature_columns = ['Transaction_Amount', 'Transaction_Type', 'Account_Balance', 'Location', 'Merchant_Category', 'IP_Address_Flag','Card_Type', 'Authentication_Method', 'Daily_Transaction_Count', 'Card_Age', 'Transaction_Distance', 'Risk_Score', 'Is_Weekend', 'Failed_Transaction_Count_7d', 'Avg_Transaction_Amount_7d', 'Previous_Fraudulent_Activity']\n",
    "\n",
    "target = 'Fraud_Label'\n",
    "\n",
    "X_train = train_df[feature_columns].values\n",
    "y_train = train_df[target].values\n",
    "\n",
    "#\n",
    "# le = pre.LabelEncoder()\n",
    "# train_df['attack_cat_encoded'] = le.fit_transform(train_df['attack_cat'])\n",
    "\n",
    "X_test = test_df[feature_columns].values\n",
    "y_test = test_df[target].values\n",
    "\n",
    "X_val = val_df[feature_columns].values\n",
    "y_val = val_df[target].values\n"
   ],
   "id": "d879d96c98190a1f",
   "outputs": [],
   "execution_count": 7
  },
  {
   "metadata": {
    "ExecuteTime": {
     "end_time": "2025-07-18T08:09:41.019848Z",
     "start_time": "2025-07-18T08:09:41.014263Z"
    }
   },
   "cell_type": "code",
   "source": [
    "# original_train_rows = len(train_df)\n",
    "# train_df = train_df[~((train_df['oldbalanceOrg'] == 0) & (train_df['newbalanceOrig'] == 0))]\n",
    "# train_df = train_df[~((train_df['oldbalanceDest'] == 0) & (train_df['oldbalanceDest'] == 0))]\n",
    "# filtered_train_rows = len(train_df)\n",
    "# print(f\"Train_df: Filtered {original_train_rows - filtered_train_rows} rows where oldbalanceOrg and newbalanceOrig were both 0.\")\n",
    "# print(f\"Remaining train_df rows: {filtered_train_rows}\")\n",
    "#\n",
    "# original_test_rows = len(test_df)\n",
    "# test_df = test_df[~((test_df['oldbalanceOrg'] == 0) & (test_df['newbalanceOrig'] == 0))]\n",
    "# test_df = test_df[~((test_df['oldbalanceDest'] == 0) & (test_df['newbalanceDest'] == 0))]\n",
    "# filtered_test_rows = len(test_df)\n",
    "# print(f\"Test_df: Filtered {original_test_rows - filtered_test_rows} rows where oldbalanceOrg and newbalanceOrig were both 0.\")\n",
    "# print(f\"Remaining test_df rows: {filtered_test_rows}\")\n"
   ],
   "id": "8e8a7f63e5bffd1d",
   "outputs": [],
   "execution_count": 8
  },
  {
   "metadata": {
    "ExecuteTime": {
     "end_time": "2025-07-18T08:09:42.506741Z",
     "start_time": "2025-07-18T08:09:42.014413Z"
    }
   },
   "cell_type": "code",
   "source": [
    "#Converting to tensor\n",
    "scaler = StandardScaler()\n",
    "\n",
    "X_train_scaled = scaler.fit_transform(X_train)\n",
    "X_test_scaled = scaler.transform(X_test)\n",
    "X_val_scaled = scaler.transform(X_val)\n",
    "\n",
    "# Converting to tensor and moving to the selected device\n",
    "\n",
    "X_train_tensor = torch.tensor(X_train_scaled, dtype=torch.float32).unsqueeze(1).to(device)\n",
    "y_train_tensor = torch.tensor(y_train, dtype=torch.long).to(device)\n",
    "\n",
    "X_test_tensor = torch.tensor(X_test_scaled, dtype=torch.float32).unsqueeze(1).to(device)\n",
    "y_test_tensor = torch.tensor(y_test, dtype=torch.long).to(device)\n",
    "\n",
    "X_val_tensor = torch.tensor(X_val_scaled, dtype=torch.float32).unsqueeze(1).to(device)\n",
    "y_val_tensor = torch.tensor(y_val, dtype=torch.long).to(device)"
   ],
   "id": "81120687472a7ab",
   "outputs": [],
   "execution_count": 9
  },
  {
   "metadata": {
    "ExecuteTime": {
     "end_time": "2025-07-18T08:09:43.081378Z",
     "start_time": "2025-07-18T08:09:43.073182Z"
    }
   },
   "cell_type": "code",
   "source": [
    "BATCH_SIZE = 64\n",
    "train_dataset = TensorDataset(X_train_tensor, y_train_tensor)\n",
    "train_loader = DataLoader(train_dataset, batch_size=BATCH_SIZE, shuffle=True)\n",
    "\n",
    "test_dataset = TensorDataset(X_test_tensor, y_test_tensor)\n",
    "test_loader = DataLoader(test_dataset, batch_size=BATCH_SIZE, shuffle=False)\n",
    "\n",
    "val_dataset = TensorDataset(X_val_tensor, y_val_tensor)\n",
    "val_loader = DataLoader(val_dataset, batch_size=BATCH_SIZE, shuffle=False)\n",
    "print(\"Data loaded from CSV and prepared for PyTorch.\")\n",
    "print(\"Training data shape:\", X_train_tensor.shape)\n",
    "print(\"Test data shape:\", X_test_tensor.shape)\n",
    "print(f\"Number of unique labels (classes): {len(np.unique(y_train))}\")\n"
   ],
   "id": "6f4f459bdb0bd14b",
   "outputs": [
    {
     "name": "stdout",
     "output_type": "stream",
     "text": [
      "Data loaded from CSV and prepared for PyTorch.\n",
      "Training data shape: torch.Size([30000, 1, 16])\n",
      "Test data shape: torch.Size([10000, 1, 16])\n",
      "Number of unique labels (classes): 2\n"
     ]
    }
   ],
   "execution_count": 10
  },
  {
   "metadata": {
    "ExecuteTime": {
     "end_time": "2025-07-18T05:14:45.048972Z",
     "start_time": "2025-07-18T05:14:45.044548Z"
    }
   },
   "cell_type": "code",
   "source": [
    "class Net1DCNN(nn.Module):\n",
    "    def __init__(self, input_channels, sequence_length, num_classes):\n",
    "        super(Net1DCNN, self).__init__()\n",
    "\n",
    "        self.conv1 = nn.Conv1d(in_channels=input_channels, out_channels=32, kernel_size=3, padding=1)\n",
    "        self.relu1 = nn.ReLU()\n",
    "        self.pool1 = nn.MaxPool1d(kernel_size=2, stride=2)\n",
    "\n",
    "        self.conv2 = nn.Conv1d(in_channels=32, out_channels=64, kernel_size=3, padding=1)\n",
    "        self.relu2 = nn.ReLU()\n",
    "        self.pool2 = nn.MaxPool1d(kernel_size=2, stride=2)\n",
    "\n",
    "\n",
    "        # self.fc1 = nn.Linear(160 * 1, 64)\n",
    "        # self.fc2 = nn.Linear(64, num_classes)\n",
    "\n",
    "        with torch.no_grad():\n",
    "            dummy_input = torch.randn(1, input_channels, sequence_length)\n",
    "            dummy_output = self.pool1(self.relu1(self.conv1(dummy_input)))\n",
    "            dummy_output = self.pool2(self.relu2(self.conv2(dummy_output)))\n",
    "            flattened_size = dummy_output.view(dummy_output.size(0), -1).shape[1]\n",
    "\n",
    "        self.fc1 = nn.Linear(flattened_size, 128)\n",
    "        self.relu_fc = nn.ReLU()\n",
    "        self.fc2 = nn.Linear(128, num_classes)\n",
    "\n",
    "        # self.dropout1 = nn.Dropout(p=0.2)\n",
    "        # self.dropout2 = nn.Dropout(p=0.2)\n",
    "\n",
    "    def forward(self, x):\n",
    "        x = self.conv1(x)\n",
    "        x = self.relu1(x)\n",
    "        x = self.pool1(x)\n",
    "\n",
    "        x = self.conv2(x)\n",
    "        x = self.relu2(x)\n",
    "        x = self.pool2(x)\n",
    "\n",
    "        x = x.view(x.size(0), -1)\n",
    "        # x = self.dropout1(x)\n",
    "\n",
    "        x = self.fc1(x)\n",
    "        x = self.relu_fc(x)\n",
    "        # x = self.dropout2(x)\n",
    "\n",
    "        x = self.fc2(x)\n",
    "        return x\n"
   ],
   "id": "6170ce8e879f03f9",
   "outputs": [],
   "execution_count": 36
  },
  {
   "metadata": {
    "ExecuteTime": {
     "end_time": "2025-07-18T05:14:51.574060Z",
     "start_time": "2025-07-18T05:14:45.559119Z"
    }
   },
   "cell_type": "code",
   "source": [
    "input_channels = X_train_tensor.shape[1]\n",
    "sequence_length = X_train_tensor.shape[2]\n",
    "num_classes = len(np.unique(y_train))\n",
    "\n",
    "model = Net1DCNN(input_channels=input_channels, sequence_length=sequence_length, num_classes=num_classes).to(device)\n",
    "criterion = nn.CrossEntropyLoss()\n",
    "\n",
    "#Optimizers\n",
    "# optimizer = optim.Adam(model.parameters(), lr=0.00001)\n",
    "optimizer = optim.SGD(model.parameters(), lr=0.005, momentum=0.001)\n",
    "\n",
    "num_epochs = 5\n",
    "\n",
    "print(\"\\nStarting model training...\")\n",
    "for epoch in range(num_epochs):\n",
    "    model.train()\n",
    "    running_loss = 0.0\n",
    "    for inputs, labels in train_loader:\n",
    "        inputs, labels = inputs.to(device), labels.to(device)\n",
    "\n",
    "        optimizer.zero_grad()\n",
    "        outputs = model(inputs)\n",
    "        loss = criterion(outputs, labels)\n",
    "        loss.backward()\n",
    "        optimizer.step()\n",
    "\n",
    "        running_loss += loss.item()\n",
    "\n",
    "    model.eval()\n",
    "    correct = 0\n",
    "    total = 0\n",
    "    with torch.no_grad():\n",
    "        for inputs, labels in val_loader:\n",
    "            inputs, labels = inputs.to(device), labels.to(device)\n",
    "            outputs = model(inputs)\n",
    "            _, predicted = torch.max(outputs.data, 1)\n",
    "            total += labels.size(0)\n",
    "            correct += (predicted == labels).sum().item()\n",
    "\n",
    "    train_accuracy = 100 * correct / total\n",
    "\n",
    "\n",
    "    print(f\"Epoch [{epoch+1}/{num_epochs}], Loss: {running_loss/len(train_loader):.4f}, Train Accuracy: {train_accuracy:.2f}%\")\n",
    "\n",
    "print(\"Training finished.\")"
   ],
   "id": "33716de3afbcb857",
   "outputs": [
    {
     "name": "stdout",
     "output_type": "stream",
     "text": [
      "\n",
      "Starting model training...\n",
      "Epoch [1/5], Loss: 0.6227, Train Accuracy: 67.57%\n",
      "Epoch [2/5], Loss: 0.5687, Train Accuracy: 72.64%\n",
      "Epoch [3/5], Loss: 0.4793, Train Accuracy: 79.47%\n",
      "Epoch [4/5], Loss: 0.3562, Train Accuracy: 90.85%\n",
      "Epoch [5/5], Loss: 0.2267, Train Accuracy: 94.92%\n",
      "Training finished.\n"
     ]
    }
   ],
   "execution_count": 37
  },
  {
   "metadata": {
    "ExecuteTime": {
     "end_time": "2025-07-18T08:09:56.106528Z",
     "start_time": "2025-07-18T08:09:56.099990Z"
    }
   },
   "cell_type": "code",
   "source": [
    "class NetLSTM(nn.Module):\n",
    "    def __init__(self, input_channels, sequence_length, num_classes, hidden_size=128, dropout=0.2):\n",
    "        super(NetLSTM, self).__init__()\n",
    "        self.hidden_size = hidden_size\n",
    "        self.num_layers = 3\n",
    "\n",
    "        self.lstm = nn.LSTM(input_size=input_channels, hidden_size=hidden_size,\n",
    "                            num_layers=self.num_layers, batch_first=True, dropout=dropout)\n",
    "\n",
    "        self.fc = nn.Linear(hidden_size, num_classes)\n",
    "\n",
    "    def forward(self, x):\n",
    "        x = x.permute(0, 2, 1)\n",
    "\n",
    "        out, (hn, cn) = self.lstm(x)\n",
    "\n",
    "        final_output = out[:, -1, :]\n",
    "\n",
    "        out = self.fc(final_output)\n",
    "        return out"
   ],
   "id": "167478d019657bfd",
   "outputs": [],
   "execution_count": 11
  },
  {
   "metadata": {
    "ExecuteTime": {
     "end_time": "2025-07-18T08:11:01.210589Z",
     "start_time": "2025-07-18T08:10:40.398289Z"
    }
   },
   "cell_type": "code",
   "source": [
    "input_channels = X_train_tensor.shape[1]\n",
    "sequence_length = X_train_tensor.shape[2]\n",
    "num_classes = len(np.unique(y_train))\n",
    "\n",
    "model = NetLSTM (input_channels=input_channels, sequence_length=sequence_length, num_classes=num_classes).to(device)\n",
    "criterion = nn.CrossEntropyLoss()\n",
    "\n",
    "#Optimizers\n",
    "optimizer = optim.Adam(model.parameters(), lr=0.0008)\n",
    "# optimizer = optim.SGD(model.parameters(), lr=0.005, momentum=0.001)\n",
    "\n",
    "num_epochs = 5\n",
    "\n",
    "print(\"\\nStarting model training...\")\n",
    "for epoch in range(num_epochs):\n",
    "    model.train()\n",
    "    running_loss = 0.0\n",
    "    for inputs, labels in train_loader:\n",
    "        inputs, labels = inputs.to(device), labels.to(device)\n",
    "\n",
    "        optimizer.zero_grad()\n",
    "        outputs = model(inputs)\n",
    "        loss = criterion(outputs, labels)\n",
    "        loss.backward()\n",
    "        optimizer.step()\n",
    "\n",
    "        running_loss += loss.item()\n",
    "\n",
    "    model.eval()\n",
    "    correct = 0\n",
    "    total = 0\n",
    "    with torch.no_grad():\n",
    "        for inputs, labels in val_loader:\n",
    "            inputs, labels = inputs.to(device), labels.to(device)\n",
    "            outputs = model(inputs)\n",
    "            _, predicted = torch.max(outputs.data, 1)\n",
    "            total += labels.size(0)\n",
    "            correct += (predicted == labels).sum().item()\n",
    "\n",
    "    train_accuracy = 100 * correct / total\n",
    "\n",
    "\n",
    "    print(f\"Epoch [{epoch+1}/{num_epochs}], Loss: {running_loss/len(train_loader):.4f}, Train Accuracy: {train_accuracy:.2f}%\")\n",
    "\n",
    "print(\"Training finished.\")"
   ],
   "id": "31183a96104383ef",
   "outputs": [
    {
     "name": "stdout",
     "output_type": "stream",
     "text": [
      "\n",
      "Starting model training...\n",
      "Epoch [1/5], Loss: 0.3976, Train Accuracy: 97.98%\n",
      "Epoch [2/5], Loss: 0.0436, Train Accuracy: 99.23%\n",
      "Epoch [3/5], Loss: 0.0309, Train Accuracy: 99.56%\n",
      "Epoch [4/5], Loss: 0.0254, Train Accuracy: 99.07%\n",
      "Epoch [5/5], Loss: 0.0235, Train Accuracy: 99.44%\n",
      "Training finished.\n"
     ]
    }
   ],
   "execution_count": 14
  },
  {
   "metadata": {
    "ExecuteTime": {
     "end_time": "2025-07-18T08:14:51.562501Z",
     "start_time": "2025-07-18T08:14:51.555245Z"
    }
   },
   "cell_type": "code",
   "source": [
    "class NetGRU(nn.Module):\n",
    "    def __init__(self, input_channels, sequence_length, num_classes, hidden_size=128, dropout=0.2):\n",
    "        super(NetGRU, self).__init__()\n",
    "        self.hidden_size = hidden_size\n",
    "        self.num_layers = 3\n",
    "\n",
    "        self.gru = nn.GRU(input_size=input_channels, hidden_size=hidden_size,\n",
    "                          num_layers=self.num_layers, batch_first=True, dropout=dropout)\n",
    "\n",
    "        self.fc = nn.Linear(hidden_size, num_classes)\n",
    "\n",
    "    def forward(self, x):\n",
    "        x = x.permute(0, 2, 1)\n",
    "\n",
    "        out, hn = self.gru(x)\n",
    "\n",
    "        final_output = out[:, -1, :]\n",
    "\n",
    "        out = self.fc(final_output)\n",
    "        return out"
   ],
   "id": "ba7daa334e9f9180",
   "outputs": [],
   "execution_count": 15
  },
  {
   "metadata": {
    "ExecuteTime": {
     "end_time": "2025-07-18T08:15:40.144539Z",
     "start_time": "2025-07-18T08:15:23.626106Z"
    }
   },
   "cell_type": "code",
   "source": [
    "input_channels = X_train_tensor.shape[1]\n",
    "sequence_length = X_train_tensor.shape[2]\n",
    "num_classes = len(np.unique(y_train))\n",
    "\n",
    "model = NetGRU (input_channels=input_channels, sequence_length=sequence_length, num_classes=num_classes).to(device)\n",
    "criterion = nn.CrossEntropyLoss()\n",
    "\n",
    "#Optimizers\n",
    "optimizer = optim.Adam(model.parameters(), lr=0.0008)\n",
    "# optimizer = optim.SGD(model.parameters(), lr=0.005, momentum=0.001)\n",
    "\n",
    "num_epochs = 5\n",
    "\n",
    "print(\"\\nStarting model training...\")\n",
    "for epoch in range(num_epochs):\n",
    "    model.train()\n",
    "    running_loss = 0.0\n",
    "    for inputs, labels in train_loader:\n",
    "        inputs, labels = inputs.to(device), labels.to(device)\n",
    "\n",
    "        optimizer.zero_grad()\n",
    "        outputs = model(inputs)\n",
    "        loss = criterion(outputs, labels)\n",
    "        loss.backward()\n",
    "        optimizer.step()\n",
    "\n",
    "        running_loss += loss.item()\n",
    "\n",
    "    model.eval()\n",
    "    correct = 0\n",
    "    total = 0\n",
    "    with torch.no_grad():\n",
    "        for inputs, labels in val_loader:\n",
    "            inputs, labels = inputs.to(device), labels.to(device)\n",
    "            outputs = model(inputs)\n",
    "            _, predicted = torch.max(outputs.data, 1)\n",
    "            total += labels.size(0)\n",
    "            correct += (predicted == labels).sum().item()\n",
    "\n",
    "    train_accuracy = 100 * correct / total\n",
    "\n",
    "\n",
    "    print(f\"Epoch [{epoch+1}/{num_epochs}], Loss: {running_loss/len(train_loader):.4f}, Train Accuracy: {train_accuracy:.2f}%\")\n",
    "\n",
    "print(\"Training finished.\")"
   ],
   "id": "862f64f127cbe062",
   "outputs": [
    {
     "name": "stdout",
     "output_type": "stream",
     "text": [
      "\n",
      "Starting model training...\n",
      "Epoch [1/5], Loss: 0.2692, Train Accuracy: 97.13%\n",
      "Epoch [2/5], Loss: 0.0370, Train Accuracy: 98.99%\n",
      "Epoch [3/5], Loss: 0.0310, Train Accuracy: 99.43%\n",
      "Epoch [4/5], Loss: 0.0247, Train Accuracy: 99.56%\n",
      "Epoch [5/5], Loss: 0.0253, Train Accuracy: 98.15%\n",
      "Training finished.\n"
     ]
    }
   ],
   "execution_count": 17
  },
  {
   "metadata": {
    "ExecuteTime": {
     "end_time": "2025-07-18T05:20:16.981451Z",
     "start_time": "2025-07-18T05:20:16.535549Z"
    }
   },
   "cell_type": "code",
   "source": [
    "all_preds = []\n",
    "all_probs = []\n",
    "all_labels = []\n",
    "\n",
    "model.eval()\n",
    "with torch.no_grad():\n",
    "    for inputs, labels in test_loader:\n",
    "        inputs, labels = inputs.to(device), labels.to(device)\n",
    "\n",
    "        outputs = model(inputs)\n",
    "        probs = F.softmax(outputs, dim=1)  # For multi-class, use softmax\n",
    "        _, predicted = torch.max(probs, 1)\n",
    "\n",
    "        all_preds.extend(predicted.cpu().numpy())\n",
    "        all_probs.extend(probs.cpu().numpy())\n",
    "        all_labels.extend(labels.cpu().numpy())\n",
    "\n",
    "all_preds = np.array(all_preds)\n",
    "all_labels = np.array(all_labels)\n",
    "all_probs = np.array(all_probs)"
   ],
   "id": "40a63e320bb1cf8a",
   "outputs": [],
   "execution_count": 42
  },
  {
   "metadata": {
    "ExecuteTime": {
     "end_time": "2025-07-18T05:25:53.458830Z",
     "start_time": "2025-07-18T05:25:53.357881Z"
    }
   },
   "cell_type": "code",
   "source": [
    "import matplotlib.pyplot as plt\n",
    "import numpy as np\n",
    "from sklearn.metrics import confusion_matrix\n",
    "\n",
    "\n",
    "colors = [\"#000080\", \"#800000\"]  # dark blue to dark red\n",
    "custom_cmap = LinearSegmentedColormap.from_list(\"blue_red\", colors, N=256)\n",
    "\n",
    "# Generate confusion matrix\n",
    "cm = confusion_matrix(all_labels, all_preds)\n",
    "fig, ax = plt.subplots()\n",
    "im = ax.matshow(cm, cmap=custom_cmap)\n",
    "\n",
    "# Add white text for each cell\n",
    "for i in range(cm.shape[0]):\n",
    "    for j in range(cm.shape[1]):\n",
    "        ax.text(j, i, str(cm[i, j]),\n",
    "                va='center', ha='center',\n",
    "                color='white', fontsize=10, fontweight='bold')\n",
    "\n",
    "plt.xlabel('Predicted Label')\n",
    "plt.ylabel('True Label')\n",
    "plt.title('Confusion Matrix', pad=20)\n",
    "plt.colorbar(im)\n",
    "plt.tight_layout()\n",
    "plt.show()\n"
   ],
   "id": "aba1598832ed1d1f",
   "outputs": [
    {
     "data": {
      "text/plain": [
       "<Figure size 640x480 with 2 Axes>"
      ],
      "image/png": "[encoded data removed]"
     },
     "metadata": {},
     "output_type": "display_data"
    }
   ],
   "execution_count": 56
  },
  {
   "metadata": {
    "ExecuteTime": {
     "end_time": "2025-07-18T05:27:41.800827Z",
     "start_time": "2025-07-18T05:27:41.731477Z"
    }
   },
   "cell_type": "code",
   "source": [
    "fpr, tpr, thresholds = roc_curve(all_labels, all_probs[:, 1])  # Prob for class 1\n",
    "roc_auc = auc(fpr, tpr)\n",
    "\n",
    "plt.figure()\n",
    "plt.plot(fpr, tpr, color=\"red\", lw=2, label=f\"ROC curve\")\n",
    "plt.plot([0, 1], [0, 1], color=\"navy\", lw=2, linestyle=\"--\")\n",
    "plt.xlim([0.0, 1.0])\n",
    "plt.ylim([0.0, 1.1])\n",
    "plt.xlabel(\"False Positive Rate\")\n",
    "plt.ylabel(\"True Positive Rate\")\n",
    "plt.title(\"Receiver Operating Characteristic\")\n",
    "plt.legend(loc=\"lower right\")\n",
    "plt.show()"
   ],
   "id": "3a42da065bed214",
   "outputs": [
    {
     "data": {
      "text/plain": [
       "<Figure size 640x480 with 1 Axes>"
      ],
      "image/png": "[encoded data removed]"
     },
     "metadata": {},
     "output_type": "display_data"
    }
   ],
   "execution_count": 57
  },
  {
   "metadata": {
    "ExecuteTime": {
     "end_time": "2025-07-18T05:28:21.910142Z",
     "start_time": "2025-07-18T05:28:21.881761Z"
    }
   },
   "cell_type": "code",
   "source": [
    "model_dir = 'models'\n",
    "os.makedirs(model_dir, exist_ok=True)\n",
    "model_path = os.path.join(model_dir, 'synfraud_model.pth')\n",
    "\n",
    "\n",
    "torch.save(model.state_dict(), model_path)\n",
    "print(f\"\\nModel saved to {model_path}\")"
   ],
   "id": "e88c7bce866c6de",
   "outputs": [
    {
     "name": "stdout",
     "output_type": "stream",
     "text": [
      "\n",
      "Model saved to models\\synfraud_model.pth\n"
     ]
    }
   ],
   "execution_count": 58
  },
  {
   "metadata": {},
   "cell_type": "code",
   "outputs": [],
   "execution_count": null,
   "source": "",
   "id": "c2699cc0f05ca801"
  }
 ],
 "metadata": {
  "kernelspec": {
   "display_name": "Python 3",
   "language": "python",
   "name": "python3"
  },
  "language_info": {
   "codemirror_mode": {
    "name": "ipython",
    "version": 2
   },
   "file_extension": ".py",
   "mimetype": "text/x-python",
   "name": "python",
   "nbconvert_exporter": "python",
   "pygments_lexer": "ipython2",
   "version": "2.7.6"
  }
 },
 "nbformat": 4,
 "nbformat_minor": 5
}
